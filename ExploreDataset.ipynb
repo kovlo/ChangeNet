{
 "cells": [
  {
   "cell_type": "markdown",
   "metadata": {},
   "source": [
    "# Dataset Explore\n",
    "This dataset is organized in different folders, but we're actually interested on a pair of input images and the expected label that highlight differences between the 2 input images"
   ]
  },
  {
   "cell_type": "code",
   "execution_count": 1,
   "metadata": {},
   "outputs": [],
   "source": [
    "from tqdm import tqdm\n",
    "import numpy as np\n",
    "import PIL\n",
    "from PIL import Image\n",
    "import matplotlib.pyplot as plt\n",
    "from IPython.display import clear_output, display\n",
    "from ipywidgets import interact, interactive, fixed, interact_manual\n",
    "import ipywidgets as widgets\n",
    "import pickle\n",
    "\n",
    "train_file_list = './train.txt'\n",
    "val_file_list = './val.txt'\n",
    "base_data_dir = '../'\n",
    "train_pickle_file = 'change_dataset_train.pkl'\n",
    "val_pickle_file = 'change_dataset_val.pkl'\n",
    "\n",
    "validation_set = {}\n",
    "training_set = {}\n",
    "\n",
    "image_size = 256"
   ]
  },
  {
   "cell_type": "code",
   "execution_count": 2,
   "metadata": {},
   "outputs": [],
   "source": [
    "cmap = [(0, 0, 0),   \t    #% ignore       0 'mask-out' (ignore)\n",
    "        (255, 255, 255),    #% unchanged    1 'no-change'\n",
    "        (136, 0, 21),   \t#% brown/red    2 'barrier'\n",
    "        (237, 28, 36),  \t#% red          3 'bin'\n",
    "        (255, 127, 39), \t#% orange       4 'construction-maintenance'\n",
    "        (255, 242, 0),  \t#% yellow       5 'misc'\n",
    "        (34, 177, 76),  \t#% dark green   6 'other-objects'\n",
    "        (0, 162, 232),  \t#% light blue   7 'person-cycle'\n",
    "        (63, 72, 204),  \t#% navy blue    8 'rubbish'\n",
    "        (163, 73, 164), \t#% purple       9 'sign'\n",
    "        (255, 174, 201),\t#% pink         10 'traffic-cone'\n",
    "        (181, 230, 29)] \t#% lime         11 'vehicle'\n",
    "\n",
    "def mask_image_generater(image):\n",
    "    h, w = image.size\n",
    "    data = np.array(image)\n",
    "    mask_data = np.zeros((w, h))\n",
    "    \n",
    "    for i, col in enumerate(cmap):\n",
    "        c1 = data[:, :, 0] == col[0]\n",
    "        c2 = data[:, :, 1] == col[1]\n",
    "        c3 = data[:, :, 2] == col[2]\n",
    "        c = c1&c2&c3\n",
    "        mask_data[c] = int(i>1)\n",
    "        \n",
    "    mask_img = Image.fromarray(mask_data)\n",
    "    return mask_img"
   ]
  },
  {
   "cell_type": "markdown",
   "metadata": {},
   "source": [
    "#### Parse the path files"
   ]
  },
  {
   "cell_type": "code",
   "execution_count": 3,
   "metadata": {},
   "outputs": [
    {
     "name": "stdout",
     "output_type": "stream",
     "text": [
      "Length Training Set: 1187\n",
      "Length Validation Set: 175\n"
     ]
    }
   ],
   "source": [
    "train_file_list = [line.rstrip('\\n').split() for line in open(train_file_list)]\n",
    "val_file_list = [line.rstrip('\\n').split() for line in open(val_file_list)]\n",
    "print('Length Training Set:', len(train_file_list))\n",
    "print('Length Validation Set:', len(val_file_list))\n",
    "size_train = len(train_file_list)\n",
    "size_validation = len(val_file_list)"
   ]
  },
  {
   "cell_type": "markdown",
   "metadata": {},
   "source": [
    "#### Load Validation Set On Memory"
   ]
  },
  {
   "cell_type": "code",
   "execution_count": 4,
   "metadata": {},
   "outputs": [
    {
     "name": "stderr",
     "output_type": "stream",
     "text": [
      "100%|██████████| 175/175 [00:12<00:00, 13.63it/s]\n"
     ]
    }
   ],
   "source": [
    "for idx, entry in enumerate(tqdm(val_file_list)):\n",
    "    # Load the reference, test and label images\n",
    "    reference_img = Image.open(base_data_dir + entry[0]).convert('RGB')\n",
    "    test_img = Image.open(base_data_dir + entry[1]).convert('RGB')\n",
    "    #label_img = Image.open(base_data_dir + entry[2]).convert('RGB')\n",
    "    label_img = Image.open(base_data_dir + entry[2])\n",
    "    label_img = mask_image_generater(label_img)\n",
    "    # Resize images\n",
    "    reference_img = reference_img.resize((image_size, image_size), PIL.Image.ANTIALIAS)\n",
    "    test_img = test_img.resize((image_size, image_size), PIL.Image.ANTIALIAS)\n",
    "    label_img = label_img.resize((image_size, image_size), PIL.Image.ANTIALIAS)\n",
    "    # Populate validation dictionary with tupple (reference,test,label)\n",
    "    validation_set[idx] = reference_img, test_img, label_img    "
   ]
  },
  {
   "cell_type": "markdown",
   "metadata": {},
   "source": [
    "#### Load Training Set On Memory"
   ]
  },
  {
   "cell_type": "code",
   "execution_count": 30,
   "metadata": {},
   "outputs": [
    {
     "name": "stderr",
     "output_type": "stream",
     "text": [
      "100%|██████████| 1187/1187 [01:28<00:00, 13.37it/s]\n"
     ]
    }
   ],
   "source": [
    "for idx, entry in enumerate(tqdm(train_file_list)):\n",
    "    # Load the reference, test and label images\n",
    "    reference_img = Image.open(base_data_dir + entry[0]).convert('RGB')\n",
    "    test_img = Image.open(base_data_dir + entry[1]).convert('RGB')\n",
    "    #label_img = Image.open(base_data_dir + entry[2]).convert('RGB')\n",
    "    #label_img = Image.open(base_data_dir + entry[2]).convert('L')\\n\",\n",
    "    label_img = Image.open(base_data_dir + entry[2])\n",
    "    label_img = mask_image_generater(label_img)\n",
    "    #label_numpy = np.array(label_img)\n",
    "    #print('Label shape:', label_numpy.shape)\n",
    "    # Resize images\n",
    "    reference_img = reference_img.resize((image_size, image_size), PIL.Image.ANTIALIAS)\n",
    "    test_img = test_img.resize((image_size, image_size), PIL.Image.ANTIALIAS)\n",
    "    label_img = label_img.resize((image_size, image_size), PIL.Image.ANTIALIAS)\n",
    "    label_numpy = np.array(label_img)\n",
    "    #print (idx,label_numpy[250,250])\n",
    "    #print('Label shape:', idx, label_numpy.shape)\n",
    "    # Populate training dictionary with tupple (reference,test,label)\n",
    "    training_set[idx] = reference_img, test_img, label_img    "
   ]
  },
  {
   "cell_type": "markdown",
   "metadata": {},
   "source": [
    "#### Save Dictionaries"
   ]
  },
  {
   "cell_type": "code",
   "execution_count": 25,
   "metadata": {},
   "outputs": [
    {
     "name": "stdout",
     "output_type": "stream",
     "text": [
      "Saving Pickle Training Set\n",
      "Saving Pickle Validation Set\n"
     ]
    }
   ],
   "source": [
    "print('Saving Pickle Training Set')\n",
    "with open(train_pickle_file, 'wb') as handle:\n",
    "    pickle.dump(training_set, handle, protocol=4)\n",
    "    \n",
    "print('Saving Pickle Validation Set')\n",
    "with open(val_pickle_file, 'wb') as handle:\n",
    "    pickle.dump(validation_set, handle, protocol=4)"
   ]
  },
  {
   "cell_type": "markdown",
   "metadata": {},
   "source": [
    "## Explore"
   ]
  },
  {
   "cell_type": "code",
   "execution_count": 33,
   "metadata": {},
   "outputs": [
    {
     "data": {
      "application/vnd.jupyter.widget-view+json": {
       "model_id": "b3c67abbeaa647c1a17bcd08b906323f",
       "version_major": 2,
       "version_minor": 0
      },
      "text/plain": [
       "interactive(children=(IntSlider(value=0, description='idx', max=1186), Output()), _dom_classes=('widget-intera…"
      ]
     },
     "metadata": {},
     "output_type": "display_data"
    }
   ],
   "source": [
    "@interact(idx=widgets.IntSlider(min=0,max=size_train-1))\n",
    "def explore_validation_dataset(idx):\n",
    "    reference_numpy = np.array(training_set[idx][0])\n",
    "    test_numpy = np.array(training_set[idx][1])\n",
    "    label_numpy = np.array(training_set[idx][2])\n",
    "    '''\n",
    "    reference_numpy = np.array(validation_set[idx][0])\n",
    "    test_numpy = np.array(validation_set[idx][1])\n",
    "    label_numpy = np.array(validation_set[idx][2])\n",
    "    '''\n",
    "    print('Label shape:', label_numpy.shape)\n",
    "    print ('Ref shape:', reference_numpy.shape)\n",
    "    print ('test shape:', test_numpy.shape)\n",
    "    #plt.imshow(label_numpy)\n",
    "    #plt.show()\n",
    "    fig=plt.figure(figsize=(16, 16))\n",
    "    columns = 3\n",
    "    rows = 1\n",
    "    fig.add_subplot(1, 3, 1)\n",
    "    plt.imshow(reference_numpy)\n",
    "    fig.add_subplot(1, 3, 2)\n",
    "    plt.imshow(test_numpy)\n",
    "    fig.add_subplot(1, 3, 3)\n",
    "    plt.imshow(label_numpy)#, cmap='gray', vmin=0, vmax=200)\n",
    "    plt.show()"
   ]
  },
  {
   "cell_type": "code",
   "execution_count": null,
   "metadata": {},
   "outputs": [],
   "source": []
  },
  {
   "cell_type": "code",
   "execution_count": null,
   "metadata": {},
   "outputs": [],
   "source": []
  },
  {
   "cell_type": "code",
   "execution_count": null,
   "metadata": {},
   "outputs": [],
   "source": []
  }
 ],
 "metadata": {
  "kernelspec": {
   "display_name": "Python 3",
   "language": "python",
   "name": "python3"
  },
  "language_info": {
   "codemirror_mode": {
    "name": "ipython",
    "version": 3
   },
   "file_extension": ".py",
   "mimetype": "text/x-python",
   "name": "python",
   "nbconvert_exporter": "python",
   "pygments_lexer": "ipython3",
   "version": "3.8.5"
  }
 },
 "nbformat": 4,
 "nbformat_minor": 4
}
