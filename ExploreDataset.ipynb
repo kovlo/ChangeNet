{
 "cells": [
  {
   "cell_type": "markdown",
   "metadata": {},
   "source": [
    "# Dataset Explore\n",
    "This dataset is organized in different folders, but we're actually interested on a pair of input images and the expected label that highlight differences between the 2 input images"
   ]
  },
  {
   "cell_type": "code",
   "execution_count": 1,
   "metadata": {},
   "outputs": [],
   "source": [
    "from tqdm import tqdm\n",
    "import numpy as np\n",
    "import PIL\n",
    "from PIL import Image\n",
    "import matplotlib.pyplot as plt\n",
    "from IPython.display import clear_output, display\n",
    "from ipywidgets import interact, interactive, fixed, interact_manual\n",
    "import ipywidgets as widgets\n",
    "import pickle\n",
    "\n",
    "train_file_list = './train.txt'\n",
    "val_file_list = './val.txt'\n",
    "base_data_dir = '../'\n",
    "train_pickle_file = 'change_dataset_train.pkl'\n",
    "val_pickle_file = 'change_dataset_val.pkl'\n",
    "\n",
    "validation_set = {}\n",
    "training_set = {}\n",
    "\n",
    "image_size = 256"
   ]
  },
  {
   "cell_type": "code",
   "execution_count": 2,
   "metadata": {},
   "outputs": [],
   "source": [
    "cmap = [(0, 0, 0),   \t    #% ignore       0 'mask-out' (ignore)\n",
    "        (255, 255, 255),    #% unchanged    1 'no-change'\n",
    "        (136, 0, 21),   \t#% brown/red    2 'barrier'\n",
    "        (237, 28, 36),  \t#% red          3 'bin'\n",
    "        (255, 127, 39), \t#% orange       4 'construction-maintenance'\n",
    "        (255, 242, 0),  \t#% yellow       5 'misc'\n",
    "        (34, 177, 76),  \t#% dark green   6 'other-objects'\n",
    "        (0, 162, 232),  \t#% light blue   7 'person-cycle'\n",
    "        (63, 72, 204),  \t#% navy blue    8 'rubbish'\n",
    "        (163, 73, 164), \t#% purple       9 'sign'\n",
    "        (255, 174, 201),\t#% pink         10 'traffic-cone'\n",
    "        (181, 230, 29)] \t#% lime         11 'vehicle'\n",
    "\n",
    "def mask_image_generater(image):\n",
    "    h, w = image.size\n",
    "    data = np.array(image)\n",
    "    mask_data = np.zeros((w, h))\n",
    "    \n",
    "    for i, col in enumerate(cmap):\n",
    "        c1 = data[:, :, 0] == col[0]\n",
    "        c2 = data[:, :, 1] == col[1]\n",
    "        c3 = data[:, :, 2] == col[2]\n",
    "        c = c1&c2&c3\n",
    "        mask_data[c] = i\n",
    "        \n",
    "    mask_img = Image.fromarray(mask_data)\n",
    "    return mask_img"
   ]
  },
  {
   "cell_type": "markdown",
   "metadata": {},
   "source": [
    "#### Parse the path files"
   ]
  },
  {
   "cell_type": "code",
   "execution_count": 3,
   "metadata": {},
   "outputs": [
    {
     "name": "stdout",
     "output_type": "stream",
     "text": [
      "Length Training Set: 1187\n",
      "Length Validation Set: 175\n"
     ]
    }
   ],
   "source": [
    "train_file_list = [line.rstrip('\\n').split() for line in open(train_file_list)]\n",
    "val_file_list = [line.rstrip('\\n').split() for line in open(val_file_list)]\n",
    "print('Length Training Set:', len(train_file_list))\n",
    "print('Length Validation Set:', len(val_file_list))\n",
    "size_train = len(train_file_list)\n",
    "size_validation = len(val_file_list)"
   ]
  },
  {
   "cell_type": "markdown",
   "metadata": {},
   "source": [
    "#### Load Validation Set On Memory"
   ]
  },
  {
   "cell_type": "code",
   "execution_count": 4,
   "metadata": {},
   "outputs": [
    {
     "name": "stderr",
     "output_type": "stream",
     "text": [
      "  0%|                                                                                           | 0/54 [00:00<?, ?it/s]\n"
     ]
    },
    {
     "ename": "FileNotFoundError",
     "evalue": "[Errno 2] No such file or directory: './VL-CMU-CD-dataset/raw/000/RGB/2_00.png'",
     "output_type": "error",
     "traceback": [
      "\u001b[1;31m---------------------------------------------------------------------------\u001b[0m",
      "\u001b[1;31mFileNotFoundError\u001b[0m                         Traceback (most recent call last)",
      "\u001b[1;32m<ipython-input-4-464accc74084>\u001b[0m in \u001b[0;36m<module>\u001b[1;34m\u001b[0m\n\u001b[0;32m      1\u001b[0m \u001b[1;32mfor\u001b[0m \u001b[0midx\u001b[0m\u001b[1;33m,\u001b[0m \u001b[0mentry\u001b[0m \u001b[1;32min\u001b[0m \u001b[0menumerate\u001b[0m\u001b[1;33m(\u001b[0m\u001b[0mtqdm\u001b[0m\u001b[1;33m(\u001b[0m\u001b[0mval_file_list\u001b[0m\u001b[1;33m)\u001b[0m\u001b[1;33m)\u001b[0m\u001b[1;33m:\u001b[0m\u001b[1;33m\u001b[0m\u001b[1;33m\u001b[0m\u001b[0m\n\u001b[0;32m      2\u001b[0m     \u001b[1;31m# Load the reference, test and label images\u001b[0m\u001b[1;33m\u001b[0m\u001b[1;33m\u001b[0m\u001b[1;33m\u001b[0m\u001b[0m\n\u001b[1;32m----> 3\u001b[1;33m     \u001b[0mreference_img\u001b[0m \u001b[1;33m=\u001b[0m \u001b[0mImage\u001b[0m\u001b[1;33m.\u001b[0m\u001b[0mopen\u001b[0m\u001b[1;33m(\u001b[0m\u001b[0mbase_data_dir\u001b[0m \u001b[1;33m+\u001b[0m \u001b[0mentry\u001b[0m\u001b[1;33m[\u001b[0m\u001b[1;36m0\u001b[0m\u001b[1;33m]\u001b[0m\u001b[1;33m)\u001b[0m\u001b[1;33m.\u001b[0m\u001b[0mconvert\u001b[0m\u001b[1;33m(\u001b[0m\u001b[1;34m'RGB'\u001b[0m\u001b[1;33m)\u001b[0m\u001b[1;33m\u001b[0m\u001b[1;33m\u001b[0m\u001b[0m\n\u001b[0m\u001b[0;32m      4\u001b[0m     \u001b[0mtest_img\u001b[0m \u001b[1;33m=\u001b[0m \u001b[0mImage\u001b[0m\u001b[1;33m.\u001b[0m\u001b[0mopen\u001b[0m\u001b[1;33m(\u001b[0m\u001b[0mbase_data_dir\u001b[0m \u001b[1;33m+\u001b[0m \u001b[0mentry\u001b[0m\u001b[1;33m[\u001b[0m\u001b[1;36m1\u001b[0m\u001b[1;33m]\u001b[0m\u001b[1;33m)\u001b[0m\u001b[1;33m.\u001b[0m\u001b[0mconvert\u001b[0m\u001b[1;33m(\u001b[0m\u001b[1;34m'RGB'\u001b[0m\u001b[1;33m)\u001b[0m\u001b[1;33m\u001b[0m\u001b[1;33m\u001b[0m\u001b[0m\n\u001b[0;32m      5\u001b[0m     \u001b[1;31m#label_img = Image.open(base_data_dir + entry[2]).convert('RGB')\u001b[0m\u001b[1;33m\u001b[0m\u001b[1;33m\u001b[0m\u001b[1;33m\u001b[0m\u001b[0m\n",
      "\u001b[1;32m~\\Anaconda3\\envs\\change\\lib\\site-packages\\PIL\\Image.py\u001b[0m in \u001b[0;36mopen\u001b[1;34m(fp, mode)\u001b[0m\n\u001b[0;32m   2876\u001b[0m \u001b[1;33m\u001b[0m\u001b[0m\n\u001b[0;32m   2877\u001b[0m     \u001b[1;32mif\u001b[0m \u001b[0mfilename\u001b[0m\u001b[1;33m:\u001b[0m\u001b[1;33m\u001b[0m\u001b[1;33m\u001b[0m\u001b[0m\n\u001b[1;32m-> 2878\u001b[1;33m         \u001b[0mfp\u001b[0m \u001b[1;33m=\u001b[0m \u001b[0mbuiltins\u001b[0m\u001b[1;33m.\u001b[0m\u001b[0mopen\u001b[0m\u001b[1;33m(\u001b[0m\u001b[0mfilename\u001b[0m\u001b[1;33m,\u001b[0m \u001b[1;34m\"rb\"\u001b[0m\u001b[1;33m)\u001b[0m\u001b[1;33m\u001b[0m\u001b[1;33m\u001b[0m\u001b[0m\n\u001b[0m\u001b[0;32m   2879\u001b[0m         \u001b[0mexclusive_fp\u001b[0m \u001b[1;33m=\u001b[0m \u001b[1;32mTrue\u001b[0m\u001b[1;33m\u001b[0m\u001b[1;33m\u001b[0m\u001b[0m\n\u001b[0;32m   2880\u001b[0m \u001b[1;33m\u001b[0m\u001b[0m\n",
      "\u001b[1;31mFileNotFoundError\u001b[0m: [Errno 2] No such file or directory: './VL-CMU-CD-dataset/raw/000/RGB/2_00.png'"
      "100%|██████████| 175/175 [00:13<00:00, 13.42it/s]\n"
     ]
    }
   ],
   "source": [
    "for idx, entry in enumerate(tqdm(val_file_list)):\n",
    "    # Load the reference, test and label images\n",
    "    reference_img = Image.open(base_data_dir + entry[0]).convert('RGB')\n",
    "    test_img = Image.open(base_data_dir + entry[1]).convert('RGB')\n",
    "    #label_img = Image.open(base_data_dir + entry[2]).convert('RGB')\n",
    "    label_img = Image.open(base_data_dir + entry[2])\n",
    "    label_img = mask_image_generater(label_img)\n",
    "    # Resize images\n",
    "    reference_img = reference_img.resize((image_size, image_size), PIL.Image.ANTIALIAS)\n",
    "    test_img = test_img.resize((image_size, image_size), PIL.Image.ANTIALIAS)\n",
    "    label_img = label_img.resize((image_size, image_size), PIL.Image.ANTIALIAS)\n",
    "    # Populate validation dictionary with tupple (reference,test,label)\n",
    "    validation_set[idx] = reference_img, test_img, label_img    "
   ]
  },
  {
   "cell_type": "markdown",
   "metadata": {},
   "source": [
    "#### Load Training Set On Memory"
   ]
  },
  {
   "cell_type": "code",
   "execution_count": 30,
   "metadata": {},
   "outputs": [
    {
     "name": "stderr",
     "output_type": "stream",
     "text": [
      "  2%|▏         | 2/98 [00:00<00:08, 11.59it/s]"
     ]
    },
    {
     "name": "stdout",
     "output_type": "stream",
     "text": [
      "0 255\n",
      "1 255\n",
      "2 4\n"
     ]
    },
    {
     "name": "stderr",
     "output_type": "stream",
     "text": [
      "  6%|▌         | 6/98 [00:00<00:07, 11.78it/s]"
     ]
    },
    {
     "name": "stdout",
     "output_type": "stream",
     "text": [
      "3 0\n",
      "4 255\n",
      "5 255\n"
     ]
    },
    {
     "name": "stderr",
     "output_type": "stream",
     "text": [
      "  8%|▊         | 8/98 [00:00<00:07, 11.55it/s]"
     ]
    },
    {
     "name": "stdout",
     "output_type": "stream",
     "text": [
      "6 255\n",
      "7 255\n",
      "8 0\n"
     ]
    },
    {
     "name": "stderr",
     "output_type": "stream",
     "text": [
      " 12%|█▏        | 12/98 [00:01<00:07, 11.77it/s]"
     ]
    },
    {
     "name": "stdout",
     "output_type": "stream",
     "text": [
      "9 255\n",
      "10 0\n",
      "11 2\n"
     ]
    },
    {
     "name": "stderr",
     "output_type": "stream",
     "text": [
      " 14%|█▍        | 14/98 [00:01<00:07, 11.82it/s]"
     ]
    },
    {
     "name": "stdout",
     "output_type": "stream",
     "text": [
      "12 184\n",
      "13 255\n",
      "14 227\n"
     ]
    },
    {
     "name": "stderr",
     "output_type": "stream",
     "text": [
      " 18%|█▊        | 18/98 [00:01<00:06, 11.80it/s]"
     ]
    },
    {
     "name": "stdout",
     "output_type": "stream",
     "text": [
      "15 0\n",
      "16 0\n",
      "17 0\n"
     ]
    },
    {
     "name": "stderr",
     "output_type": "stream",
     "text": [
      " 20%|██        | 20/98 [00:01<00:06, 11.77it/s]"
     ]
    },
    {
     "name": "stdout",
     "output_type": "stream",
     "text": [
      "18 0\n",
      "19 0\n",
      "20 0\n"
     ]
    },
    {
     "name": "stderr",
     "output_type": "stream",
     "text": [
      " 24%|██▍       | 24/98 [00:02<00:06, 11.85it/s]"
     ]
    },
    {
     "name": "stdout",
     "output_type": "stream",
     "text": [
      "21 0\n",
      "22 255\n",
      "23 0\n"
     ]
    },
    {
     "name": "stderr",
     "output_type": "stream",
     "text": [
      " 27%|██▋       | 26/98 [00:02<00:06, 11.87it/s]"
     ]
    },
    {
     "name": "stdout",
     "output_type": "stream",
     "text": [
      "24 255\n",
      "25 255\n",
      "26 255\n"
     ]
    },
    {
     "name": "stderr",
     "output_type": "stream",
     "text": [
      " 31%|███       | 30/98 [00:02<00:05, 11.95it/s]"
     ]
    },
    {
     "name": "stdout",
     "output_type": "stream",
     "text": [
      "27 255\n",
      "28 0\n",
      "29 255\n"
     ]
    },
    {
     "name": "stderr",
     "output_type": "stream",
     "text": [
      " 33%|███▎      | 32/98 [00:02<00:05, 11.98it/s]"
     ]
    },
    {
     "name": "stdout",
     "output_type": "stream",
     "text": [
      "30 255\n",
      "31 0\n",
      "32 0\n"
     ]
    },
    {
     "name": "stderr",
     "output_type": "stream",
     "text": [
      " 37%|███▋      | 36/98 [00:03<00:05, 11.97it/s]"
     ]
    },
    {
     "name": "stdout",
     "output_type": "stream",
     "text": [
      "33 0\n",
      "34 5\n",
      "35 4\n"
     ]
    },
    {
     "name": "stderr",
     "output_type": "stream",
     "text": [
      " 39%|███▉      | 38/98 [00:03<00:05, 11.95it/s]"
     ]
    },
    {
     "name": "stdout",
     "output_type": "stream",
     "text": [
      "36 0\n",
      "37 0\n",
      "38 4\n"
     ]
    },
    {
     "name": "stderr",
     "output_type": "stream",
     "text": [
      " 43%|████▎     | 42/98 [00:03<00:04, 11.88it/s]"
     ]
    },
    {
     "name": "stdout",
     "output_type": "stream",
     "text": [
      "39 255\n",
      "40 0\n",
      "41 0\n"
     ]
    },
    {
     "name": "stderr",
     "output_type": "stream",
     "text": [
      " 45%|████▍     | 44/98 [00:03<00:04, 11.99it/s]"
     ]
    },
    {
     "name": "stdout",
     "output_type": "stream",
     "text": [
      "42 255\n",
      "43 0\n",
      "44 255\n"
     ]
    },
    {
     "name": "stderr",
     "output_type": "stream",
     "text": [
      " 49%|████▉     | 48/98 [00:04<00:04, 12.01it/s]"
     ]
    },
    {
     "name": "stdout",
     "output_type": "stream",
     "text": [
      "45 0\n",
      "46 255\n",
      "47 255\n"
     ]
    },
    {
     "name": "stderr",
     "output_type": "stream",
     "text": [
      " 51%|█████     | 50/98 [00:04<00:04, 11.99it/s]"
     ]
    },
    {
     "name": "stdout",
     "output_type": "stream",
     "text": [
      "48 0\n",
      "49 255\n",
      "50 255\n"
     ]
    },
    {
     "name": "stderr",
     "output_type": "stream",
     "text": [
      " 55%|█████▌    | 54/98 [00:04<00:03, 11.89it/s]"
     ]
    },
    {
     "name": "stdout",
     "output_type": "stream",
     "text": [
      "51 255\n",
      "52 0\n",
      "53 255\n"
     ]
    },
    {
     "name": "stderr",
     "output_type": "stream",
     "text": [
      " 57%|█████▋    | 56/98 [00:04<00:03, 11.99it/s]"
     ]
    },
    {
     "name": "stdout",
     "output_type": "stream",
     "text": [
      "54 0\n",
      "55 1\n",
      "56 0\n"
     ]
    },
    {
     "name": "stderr",
     "output_type": "stream",
     "text": [
      " 61%|██████    | 60/98 [00:05<00:03, 11.94it/s]"
     ]
    },
    {
     "name": "stdout",
     "output_type": "stream",
     "text": [
      "57 255\n",
      "58 253\n",
      "59 255\n"
     ]
    },
    {
     "name": "stderr",
     "output_type": "stream",
     "text": [
      " 63%|██████▎   | 62/98 [00:05<00:03, 11.95it/s]"
     ]
    },
    {
     "name": "stdout",
     "output_type": "stream",
     "text": [
      "60 255\n",
      "61 0\n",
      "62 255\n"
     ]
    },
    {
     "name": "stderr",
     "output_type": "stream",
     "text": [
      " 67%|██████▋   | 66/98 [00:05<00:02, 11.90it/s]"
     ]
    },
    {
     "name": "stdout",
     "output_type": "stream",
     "text": [
      "63 255\n",
      "64 255\n",
      "65 0\n"
     ]
    },
    {
     "name": "stderr",
     "output_type": "stream",
     "text": [
      " 69%|██████▉   | 68/98 [00:05<00:02, 11.86it/s]"
     ]
    },
    {
     "name": "stdout",
     "output_type": "stream",
     "text": [
      "66 0\n",
      "67 255\n",
      "68 255\n"
     ]
    },
    {
     "name": "stderr",
     "output_type": "stream",
     "text": [
      " 73%|███████▎  | 72/98 [00:06<00:02, 11.95it/s]"
     ]
    },
    {
     "name": "stdout",
     "output_type": "stream",
     "text": [
      "69 255\n",
      "70 0\n",
      "71 170\n"
     ]
    },
    {
     "name": "stderr",
     "output_type": "stream",
     "text": [
      " 76%|███████▌  | 74/98 [00:06<00:01, 12.03it/s]"
     ]
    },
    {
     "name": "stdout",
     "output_type": "stream",
     "text": [
      "72 0\n",
      "73 0\n",
      "74 0\n"
     ]
    },
    {
     "name": "stderr",
     "output_type": "stream",
     "text": [
      " 80%|███████▉  | 78/98 [00:06<00:01, 12.05it/s]"
     ]
    },
    {
     "name": "stdout",
     "output_type": "stream",
     "text": [
      "75 255\n",
      "76 0\n",
      "77 235\n"
     ]
    },
    {
     "name": "stderr",
     "output_type": "stream",
     "text": [
      " 82%|████████▏ | 80/98 [00:06<00:01, 12.05it/s]"
     ]
    },
    {
     "name": "stdout",
     "output_type": "stream",
     "text": [
      "78 0\n",
      "79 253\n",
      "80 0\n"
     ]
    },
    {
     "name": "stderr",
     "output_type": "stream",
     "text": [
      " 86%|████████▌ | 84/98 [00:07<00:01, 12.09it/s]"
     ]
    },
    {
     "name": "stdout",
     "output_type": "stream",
     "text": [
      "81 0\n",
      "82 128\n",
      "83 0\n"
     ]
    },
    {
     "name": "stderr",
     "output_type": "stream",
     "text": [
      " 88%|████████▊ | 86/98 [00:07<00:00, 12.06it/s]"
     ]
    },
    {
     "name": "stdout",
     "output_type": "stream",
     "text": [
      "84 255\n",
      "85 2\n",
      "86 0\n"
     ]
    },
    {
     "name": "stderr",
     "output_type": "stream",
     "text": [
      " 92%|█████████▏| 90/98 [00:07<00:00, 12.07it/s]"
     ]
    },
    {
     "name": "stdout",
     "output_type": "stream",
     "text": [
      "87 255\n",
      "88 17\n",
      "89 0\n"
     ]
    },
    {
     "name": "stderr",
     "output_type": "stream",
     "text": [
      " 94%|█████████▍| 92/98 [00:07<00:00, 12.03it/s]"
     ]
    },
    {
     "name": "stdout",
     "output_type": "stream",
     "text": [
      "90 255\n",
      "91 1\n",
      "92 255\n"
     ]
    },
    {
     "name": "stderr",
     "output_type": "stream",
     "text": [
      " 98%|█████████▊| 96/98 [00:08<00:00, 11.98it/s]"
     ]
    },
    {
     "name": "stdout",
     "output_type": "stream",
     "text": [
      "93 255\n",
      "94 255\n",
      "95 255\n"
     ]
    },
    {
     "name": "stderr",
     "output_type": "stream",
     "text": [
      "100%|██████████| 98/98 [00:08<00:00, 11.93it/s]"
     ]
    },
    {
     "name": "stdout",
     "output_type": "stream",
     "text": [
      "96 255\n",
      "97 255\n"
     ]
    },
    {
     "name": "stderr",
     "output_type": "stream",
     "text": [
      "\n"
      "100%|██████████| 1187/1187 [00:57<00:00, 20.66it/s]\n"
     ]
    }
   ],
   "source": [
    "for idx, entry in enumerate(tqdm(train_file_list)):\n",
    "    # Load the reference, test and label images\n",
    "    reference_img = Image.open(base_data_dir + entry[0]).convert('RGB')\n",
    "    test_img = Image.open(base_data_dir + entry[1]).convert('RGB')\n",
    "    #label_img = Image.open(base_data_dir + entry[2]).convert('RGB')\n",
    "    #label_img = Image.open(base_data_dir + entry[2]).convert('L')\\n\",\n",
    "    label_img = Image.open(base_data_dir + entry[2])\n",
    "    label_img = mask_image_generater(label_img)\n",
    "    #label_numpy = np.array(label_img)\n",
    "    #print('Label shape:', label_numpy.shape)\n",
    "    # Resize images\n",
    "    reference_img = reference_img.resize((image_size, image_size), PIL.Image.ANTIALIAS)\n",
    "    test_img = test_img.resize((image_size, image_size), PIL.Image.ANTIALIAS)\n",
    "    label_img = label_img.resize((image_size, image_size), PIL.Image.ANTIALIAS)\n",
    "    label_numpy = np.array(label_img)\n",
    "    #print (idx,label_numpy[250,250])\n",
    "    #print('Label shape:', idx, label_numpy.shape)\n",
    "    # Populate training dictionary with tupple (reference,test,label)\n",
    "    training_set[idx] = reference_img, test_img, label_img    "
   ]
  },
  {
   "cell_type": "markdown",
   "metadata": {},
   "source": [
    "#### Save Dictionaries"
   ]
  },
  {
   "cell_type": "code",
   "execution_count": 25,
   "metadata": {},
   "outputs": [
    {
     "name": "stdout",
     "output_type": "stream",
     "text": [
      "Saving Pickle Training Set\n",
      "Saving Pickle Validation Set\n"
     ]
    }
   ],
   "source": [
    "print('Saving Pickle Training Set')\n",
    "with open(train_pickle_file, 'wb') as handle:\n",
    "    pickle.dump(training_set, handle, protocol=4)\n",
    "    \n",
    "print('Saving Pickle Validation Set')\n",
    "with open(val_pickle_file, 'wb') as handle:\n",
    "    pickle.dump(validation_set, handle, protocol=4)"
   ]
  },
  {
   "cell_type": "markdown",
   "metadata": {},
   "source": [
    "## Explore"
   ]
  },
  {
   "cell_type": "code",
   "execution_count": 33,
   "metadata": {},
   "outputs": [
    {
     "data": {
      "application/vnd.jupyter.widget-view+json": {
       "model_id": "b3c67abbeaa647c1a17bcd08b906323f",
       "version_major": 2,
       "version_minor": 0
      },
      "text/plain": [
       "interactive(children=(IntSlider(value=0, description='idx', max=1186), Output()), _dom_classes=('widget-intera…"
      ]
     },
     "metadata": {},
     "output_type": "display_data"
    }
   ],
   "source": [
    "@interact(idx=widgets.IntSlider(min=0,max=size_train-1))\n",
    "def explore_validation_dataset(idx):\n",
    "    reference_numpy = np.array(training_set[idx][0])\n",
    "    test_numpy = np.array(training_set[idx][1])\n",
    "    label_numpy = np.array(training_set[idx][2])\n",
    "    print('Label shape:', label_numpy.shape)\n",
    "    print ('Ref shape:', reference_numpy.shape)\n",
    "    print ('test shape:', test_numpy.shape)\n",
    "    #plt.imshow(label_numpy)\n",
    "    #plt.show()\n",
    "    fig=plt.figure(figsize=(16, 16))\n",
    "    columns = 3\n",
    "    rows = 1\n",
    "    fig.add_subplot(1, 3, 1)\n",
    "    plt.imshow(reference_numpy)\n",
    "    fig.add_subplot(1, 3, 2)\n",
    "    plt.imshow(test_numpy)\n",
    "    fig.add_subplot(1, 3, 3)\n",
    "    plt.imshow(label_numpy)#, cmap='gray', vmin=0, vmax=200)\n",
    "    plt.show()"
   ]
  },
  {
   "cell_type": "code",
   "execution_count": null,
   "metadata": {},
   "outputs": [],
   "source": []
  },
  {
   "cell_type": "code",
   "execution_count": null,
   "metadata": {},
   "outputs": [],
   "source": []
  },
  {
   "cell_type": "code",
   "execution_count": null,
   "metadata": {},
   "outputs": [],
   "source": []
  }
 ],
 "metadata": {
  "kernelspec": {
   "display_name": "Python 3",
   "language": "python",
   "name": "python3"
  },
  "language_info": {
   "codemirror_mode": {
    "name": "ipython",
    "version": 3
   },
   "file_extension": ".py",
   "mimetype": "text/x-python",
   "name": "python",
   "nbconvert_exporter": "python",
   "pygments_lexer": "ipython3",
   "version": "3.8.5"
  }
 },
 "nbformat": 4,
 "nbformat_minor": 4
}
